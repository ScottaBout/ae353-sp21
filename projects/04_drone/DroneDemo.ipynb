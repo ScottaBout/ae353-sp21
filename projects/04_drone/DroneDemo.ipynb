{
 "cells": [
  {
   "cell_type": "markdown",
   "id": "middle-acoustic",
   "metadata": {},
   "source": [
    "# Quadrotor (aka \"the drone\")"
   ]
  },
  {
   "cell_type": "markdown",
   "id": "future-divide",
   "metadata": {},
   "source": [
    "## Example of how to set everything up (do this only once)"
   ]
  },
  {
   "cell_type": "markdown",
   "id": "faced-least",
   "metadata": {},
   "source": [
    "Import modules and configure the notebook."
   ]
  },
  {
   "cell_type": "code",
   "execution_count": 1,
   "id": "informed-qatar",
   "metadata": {},
   "outputs": [
    {
     "data": {
      "text/plain": [
       "<module 'ae353_drone' from 'C:\\\\Users\\\\scott\\\\Documents\\\\Jupyter\\\\ae353-sp21v4\\\\ae353-sp21\\\\projects\\\\04_drone\\\\ae353_drone.py'>"
      ]
     },
     "execution_count": 1,
     "metadata": {},
     "output_type": "execute_result"
    }
   ],
   "source": [
    "import os\n",
    "\n",
    "# This module is part of the python standard library\n",
    "import time\n",
    "\n",
    "# These modules are part of other existing libraries\n",
    "import numpy as np\n",
    "import sympy as sym\n",
    "import matplotlib.pyplot as plt\n",
    "from scipy import linalg\n",
    "\n",
    "# This is my own script (it is an interface to the pybullet simulator)\n",
    "import ae353_drone\n",
    "\n",
    "# I often go back and forth between making changes to my scripts and to\n",
    "# the notebook in which they are used. One \"gotcha\" is that notebooks only\n",
    "# import modules or scripts ONCE. Subsequent imports don't do anything, and\n",
    "# in particular won't reflect any changes I've made to my scripts. To make\n",
    "# sure that I'm working with the latest version of my code, I use this bit\n",
    "# of magic, which forces the notebook to \"reload\" my script:\n",
    "import importlib\n",
    "importlib.reload(ae353_drone)"
   ]
  },
  {
   "cell_type": "markdown",
   "id": "mounted-serum",
   "metadata": {},
   "source": [
    "## Derivation of Equations of Motion"
   ]
  },
  {
   "cell_type": "markdown",
   "id": "inappropriate-spare",
   "metadata": {},
   "source": [
    "Specify the physical parameters:"
   ]
  },
  {
   "cell_type": "code",
   "execution_count": 2,
   "id": "accomplished-median",
   "metadata": {},
   "outputs": [],
   "source": [
    "m = sym.nsimplify(0.5)\n",
    "J1 = sym.nsimplify(0.0023)\n",
    "J2 = sym.nsimplify(0.0023)\n",
    "J3 = sym.nsimplify(0.0040)\n",
    "l = sym.nsimplify(0.175)\n",
    "g = sym.nsimplify(9.81)"
   ]
  },
  {
   "cell_type": "markdown",
   "id": "creative-lincoln",
   "metadata": {},
   "source": [
    "Derive the equations of motion:"
   ]
  },
  {
   "cell_type": "code",
   "execution_count": 3,
   "id": "particular-sally",
   "metadata": {},
   "outputs": [
    {
     "data": {
      "text/latex": [
       "$\\displaystyle \\left[\\begin{matrix}p_{x}\\\\p_{y}\\\\p_{z}\\\\\\phi\\\\\\theta\\\\\\psi\\end{matrix}\\right]$"
      ],
      "text/plain": [
       "Matrix([\n",
       "[  p_x],\n",
       "[  p_y],\n",
       "[  p_z],\n",
       "[  phi],\n",
       "[theta],\n",
       "[  psi]])"
      ]
     },
     "execution_count": 3,
     "metadata": {},
     "output_type": "execute_result"
    }
   ],
   "source": [
    "# components of position (meters)\n",
    "p_x, p_y, p_z = sym.symbols('p_x, p_y, p_z')\n",
    "\n",
    "# roll, pitch, yaw angles (radians)\n",
    "phi, theta, psi = sym.symbols('phi, theta, psi')\n",
    "\n",
    "# components of linear velocity (meters / second)\n",
    "v_x, v_y, v_z = sym.symbols('v_x, v_y, v_z')\n",
    "\n",
    "# components of angular velocity (radians / second)\n",
    "w_x, w_y, w_z = sym.symbols('w_x, w_y, w_z')\n",
    "\n",
    "# components of net rotor torque\n",
    "tau_x, tau_y, tau_z = sym.symbols('tau_x, tau_y, tau_z')\n",
    "\n",
    "# net rotor force\n",
    "f_z = sym.symbols('f_z')\n",
    "\n",
    "# parameters\n",
    "m = sym.nsimplify(0.5)\n",
    "Jx = sym.nsimplify(0.0023)\n",
    "Jy = sym.nsimplify(0.0023)\n",
    "Jz = sym.nsimplify(0.0040)\n",
    "l = sym.nsimplify(0.175)\n",
    "g = sym.nsimplify(9.81)\n",
    "\n",
    "# rotation matrices\n",
    "Rx = sym.Matrix([[1, 0, 0], [0, sym.cos(phi), -sym.sin(phi)], [0, sym.sin(phi), sym.cos(phi)]])\n",
    "Ry = sym.Matrix([[sym.cos(theta), 0, sym.sin(theta)], [0, 1, 0], [-sym.sin(theta), 0, sym.cos(theta)]])\n",
    "Rz = sym.Matrix([[sym.cos(psi), -sym.sin(psi), 0], [sym.sin(psi), sym.cos(psi), 0], [0, 0, 1]])\n",
    "Rxyz = Rx * Ry * Rz\n",
    "\n",
    "# angular velocity to angular rates\n",
    "ex = sym.Matrix([[1], [0], [0]])\n",
    "ey = sym.Matrix([[0], [1], [0]])\n",
    "ez = sym.Matrix([[0], [0], [1]])\n",
    "M = sym.simplify(sym.Matrix.hstack((Ry * Rz).T * ex, Rz.T * ey, ez).inv(), full=True)\n",
    "\n",
    "# applied forces\n",
    "forces = sym.Matrix([[0], [0], [-m * g]]) + Rxyz * sym.Matrix([[0], [0], [f_z]])\n",
    "\n",
    "# euler's equations\n",
    "euler = sym.Matrix([[(1 / Jx) * (tau_x + (Jy - Jz) * w_y * w_z)],\n",
    "                   [(1 / Jy) * (tau_y + (Jz - Jx) * w_z * w_x)],\n",
    "                   [(1 / Jz) * (tau_z + (Jx - Jy) * w_x * w_y)]])\n",
    "\n",
    "# equations of motion\n",
    "f = sym.Matrix.vstack(sym.Matrix([[v_x], [v_y], [v_z]]),\n",
    "                      M * sym.Matrix([[w_x], [w_y], [w_z]]),\n",
    "                      (1 / m) * forces,\n",
    "                      euler)\n",
    "f = sym.simplify(f, full=True)\n",
    "G = sym.Matrix([[p_x], [p_y], [p_z], [phi], [theta], [psi]])\n",
    "G"
   ]
  },
  {
   "cell_type": "markdown",
   "id": "contrary-exclusive",
   "metadata": {},
   "source": [
    "## Equilibrium Values"
   ]
  },
  {
   "cell_type": "code",
   "execution_count": 4,
   "id": "tough-platinum",
   "metadata": {},
   "outputs": [],
   "source": [
    "p_xe = 0 \n",
    "p_ye = 0\n",
    "p_ze = 0\n",
    "phie = 0\n",
    "thetae = 0\n",
    "psie = 0\n",
    "v_xe = 0\n",
    "v_ye = 0\n",
    "v_ze = 0\n",
    "w_xe = 0\n",
    "w_ye = 0\n",
    "w_ze = 0\n",
    "tau_xe = 0\n",
    "tau_ye = 0\n",
    "tau_ze = 0\n",
    "f_ze = (981/100)/2 "
   ]
  },
  {
   "cell_type": "markdown",
   "id": "close-flood",
   "metadata": {},
   "source": [
    "## A, B, C Matrices"
   ]
  },
  {
   "cell_type": "code",
   "execution_count": 5,
   "id": "characteristic-means",
   "metadata": {},
   "outputs": [
    {
     "data": {
      "text/latex": [
       "$\\displaystyle \\left[\\begin{array}{cccccccccccc}1 & 0 & 0 & 0 & 0 & 0 & 0 & 0 & 0 & 0 & 0 & 0\\\\0 & 1 & 0 & 0 & 0 & 0 & 0 & 0 & 0 & 0 & 0 & 0\\\\0 & 0 & 1 & 0 & 0 & 0 & 0 & 0 & 0 & 0 & 0 & 0\\\\0 & 0 & 0 & 1 & 0 & 0 & 0 & 0 & 0 & 0 & 0 & 0\\\\0 & 0 & 0 & 0 & 1 & 0 & 0 & 0 & 0 & 0 & 0 & 0\\\\0 & 0 & 0 & 0 & 0 & 1 & 0 & 0 & 0 & 0 & 0 & 0\\end{array}\\right]$"
      ],
      "text/plain": [
       "Matrix([\n",
       "[1, 0, 0, 0, 0, 0, 0, 0, 0, 0, 0, 0],\n",
       "[0, 1, 0, 0, 0, 0, 0, 0, 0, 0, 0, 0],\n",
       "[0, 0, 1, 0, 0, 0, 0, 0, 0, 0, 0, 0],\n",
       "[0, 0, 0, 1, 0, 0, 0, 0, 0, 0, 0, 0],\n",
       "[0, 0, 0, 0, 1, 0, 0, 0, 0, 0, 0, 0],\n",
       "[0, 0, 0, 0, 0, 1, 0, 0, 0, 0, 0, 0]])"
      ]
     },
     "execution_count": 5,
     "metadata": {},
     "output_type": "execute_result"
    }
   ],
   "source": [
    "A_num = sym.lambdify((p_x, p_y, p_z, phi, theta, psi, v_x, v_y, v_z, w_x, w_y, w_z, tau_x, tau_y, tau_z, f_z) \\\n",
    "                   ,f.jacobian([p_x, p_y, p_z, phi, theta, psi, v_x, v_y, v_z, w_x, w_y, w_z]))\n",
    "A = A_num(p_xe, p_ye, p_ze, phie, thetae, psie, v_xe, v_ye,v_ze, w_xe, w_ye, w_ze, tau_xe, tau_ye, tau_ze, f_ze)\n",
    "a = sym.Matrix(A)\n",
    "\n",
    "B_num = sym.lambdify((p_x, p_y, p_z, phi, theta, psi, v_x, v_y, v_z, w_x, w_y, w_z, tau_x, tau_y, tau_z, f_z) \\\n",
    "                   ,f.jacobian([tau_x, tau_y, tau_z, f_z]))\n",
    "B = B_num(p_xe, p_ye, p_ze, phie, thetae, psie, v_xe, v_ye,v_ze, w_xe, w_ye, w_ze, tau_xe, tau_ye, tau_ze, f_ze)\n",
    "b = sym.Matrix(B)\n",
    "\n",
    "C_num = sym.lambdify((p_x, p_y, p_z, phi, theta, psi, v_x, v_y, v_z, w_x, w_y, w_z, tau_x, tau_y, tau_z, f_z) \\\n",
    "                   ,G.jacobian([p_x, p_y, p_z, phi, theta, psi, v_x, v_y, v_z, w_x, w_y, w_z]))\n",
    "C = C_num(p_xe, p_ye, p_ze, phie, thetae, psie, v_xe, v_ye,v_ze, w_xe, w_ye, w_ze, tau_xe, tau_ye, tau_ze, f_ze)\n",
    "c = sym.Matrix(C)\n",
    "c"
   ]
  },
  {
   "cell_type": "markdown",
   "id": "subtle-venice",
   "metadata": {},
   "source": [
    "## Controllability"
   ]
  },
  {
   "cell_type": "code",
   "execution_count": 6,
   "id": "threaded-estonia",
   "metadata": {},
   "outputs": [
    {
     "name": "stdout",
     "output_type": "stream",
     "text": [
      "Yes, system is controllable\n"
     ]
    }
   ],
   "source": [
    "W = B\n",
    "n = A.shape[0]\n",
    "for i in range(1,n):\n",
    "    col=np.linalg.matrix_power(A,i)@B\n",
    "    W=np.block([W,col])\n",
    "rank=np.linalg.matrix_rank(W)\n",
    "if rank==n:\n",
    "    print('Yes, system is controllable')\n",
    "else:\n",
    "    print('No, system is not controllable')\n",
    "w=sym.Matrix(W)\n",
    "#rank"
   ]
  },
  {
   "cell_type": "markdown",
   "id": "contained-morocco",
   "metadata": {},
   "source": [
    "## Observability"
   ]
  },
  {
   "cell_type": "code",
   "execution_count": 7,
   "id": "falling-membrane",
   "metadata": {},
   "outputs": [
    {
     "name": "stdout",
     "output_type": "stream",
     "text": [
      "Yes, system is observable\n"
     ]
    }
   ],
   "source": [
    "n = C.shape[1]\n",
    "Wo = C.T\n",
    "for i in range(1,n):\n",
    "    col=np.linalg.matrix_power(A.T,i)@C.T\n",
    "    Wo=np.block([Wo,col])\n",
    "rank=np.linalg.matrix_rank(Wo)\n",
    "if rank==n:\n",
    "    print('Yes, system is observable')\n",
    "else:\n",
    "    print('No, system is not observable')"
   ]
  },
  {
   "cell_type": "markdown",
   "id": "acoustic-fiction",
   "metadata": {},
   "source": [
    "## LQR"
   ]
  },
  {
   "cell_type": "code",
   "execution_count": 8,
   "id": "italic-flashing",
   "metadata": {},
   "outputs": [],
   "source": [
    "def LQR(A,B,Q,R):\n",
    "    P=linalg.solve_continuous_are(A,B,Q,R)\n",
    "    K=linalg.inv(R) @ B.T @ P\n",
    "    return K"
   ]
  },
  {
   "cell_type": "markdown",
   "id": "legendary-riverside",
   "metadata": {},
   "source": [
    "## K and L Matrices (Unweighted)"
   ]
  },
  {
   "cell_type": "code",
   "execution_count": 9,
   "id": "dangerous-macro",
   "metadata": {},
   "outputs": [],
   "source": [
    "# Qk = np.eye(A.shape[0])\n",
    "# Rk = np.eye(B.shape[1])\n",
    "# K = LQR(A, B, Qk, Rk)\n",
    "# Ql = 1000*np.eye(6)\n",
    "# Rl = np.eye(A.shape[0])\n",
    "# L=LQR(A.T,C.T,linalg.inv(Rl),linalg.inv(Ql)).T\n",
    "# k = sym.Matrix(K)\n",
    "# l = sym.Matrix(L)"
   ]
  },
  {
   "cell_type": "markdown",
   "id": "rapid-central",
   "metadata": {},
   "source": [
    "## K and L Matrices (Weighted)"
   ]
  },
  {
   "cell_type": "code",
   "execution_count": 32,
   "id": "cooked-blowing",
   "metadata": {},
   "outputs": [
    {
     "data": {
      "text/latex": [
       "$\\displaystyle \\left[\\begin{matrix}27.5027895209698 & 0.0 & 0.0 & 0.0 & 0.178546830337838 & 0.0\\\\0.0 & 27.5027895209698 & 0.0 & -0.178546830337838 & 0.0 & 0.0\\\\0.0 & 0.0 & 27.439297116021 & 0.0 & 0.0 & 0.0\\\\0.0 & -0.178546830337838 & 0.0 & 27.4387161888501 & 0.0 & 0.0\\\\0.178546830337838 & 0.0 & 0.0 & 0.0 & 27.4387161888501 & 0.0\\\\0.0 & 0.0 & 0.0 & 0.0 & 0.0 & 27.439297116021\\\\28.2176552026905 & 0.0 & 0.0 & 0.0 & 9.80409558930338 & 0.0\\\\0.0 & 28.2176552026905 & 0.0 & -9.80409558930338 & 0.0 & 0.0\\\\0.0 & 0.0 & 26.4575131106459 & 0.0 & 0.0 & 0.0\\\\0.0 & -0.00553610917924287 & 0.0 & 26.4575125314435 & 0.0 & 0.0\\\\0.00553610917924287 & 0.0 & 0.0 & 0.0 & 26.4575125314435 & 0.0\\\\0.0 & 0.0 & 0.0 & 0.0 & 0.0 & 26.4575131106459\\end{matrix}\\right]$"
      ],
      "text/plain": [
       "Matrix([\n",
       "[   27.5027895209698,                  0.0,              0.0,                0.0, 0.178546830337838,              0.0],\n",
       "[                0.0,     27.5027895209698,              0.0, -0.178546830337838,               0.0,              0.0],\n",
       "[                0.0,                  0.0,  27.439297116021,                0.0,               0.0,              0.0],\n",
       "[                0.0,   -0.178546830337838,              0.0,   27.4387161888501,               0.0,              0.0],\n",
       "[  0.178546830337838,                  0.0,              0.0,                0.0,  27.4387161888501,              0.0],\n",
       "[                0.0,                  0.0,              0.0,                0.0,               0.0,  27.439297116021],\n",
       "[   28.2176552026905,                  0.0,              0.0,                0.0,  9.80409558930338,              0.0],\n",
       "[                0.0,     28.2176552026905,              0.0,  -9.80409558930338,               0.0,              0.0],\n",
       "[                0.0,                  0.0, 26.4575131106459,                0.0,               0.0,              0.0],\n",
       "[                0.0, -0.00553610917924287,              0.0,   26.4575125314435,               0.0,              0.0],\n",
       "[0.00553610917924287,                  0.0,              0.0,                0.0,  26.4575125314435,              0.0],\n",
       "[                0.0,                  0.0,              0.0,                0.0,               0.0, 26.4575131106459]])"
      ]
     },
     "execution_count": 32,
     "metadata": {},
     "output_type": "execute_result"
    }
   ],
   "source": [
    "Qk = np.diag((15,25,20, 1,1,1, 5,1,5, 1,1,1))\n",
    "Rk = np.diag((22,22,22,22))\n",
    "K= LQR(A,B,Qk,Rk)\n",
    "Ql = 700*np.eye(6)\n",
    "Rl = np.eye(A.shape[0])\n",
    "L=LQR(A.T,C.T,linalg.inv(Rl),linalg.inv(Ql)).T\n",
    "k = sym.Matrix(K)\n",
    "l = sym.Matrix(L)\n",
    "l"
   ]
  },
  {
   "cell_type": "code",
   "execution_count": 33,
   "id": "posted-overall",
   "metadata": {},
   "outputs": [
    {
     "data": {
      "text/latex": [
       "$\\displaystyle \\left[\\begin{matrix}27.5027895209698 & 0.0 & 0.0 & 0.0 & 0.178546830337838 & 0.0\\\\0.0 & 27.5027895209698 & 0.0 & -0.178546830337838 & 0.0 & 0.0\\\\0.0 & 0.0 & 27.439297116021 & 0.0 & 0.0 & 0.0\\\\0.0 & -0.178546830337838 & 0.0 & 27.4387161888501 & 0.0 & 0.0\\\\0.178546830337838 & 0.0 & 0.0 & 0.0 & 27.4387161888501 & 0.0\\\\0.0 & 0.0 & 0.0 & 0.0 & 0.0 & 27.439297116021\\\\28.2176552026905 & 0.0 & 0.0 & 0.0 & 9.80409558930338 & 0.0\\\\0.0 & 28.2176552026905 & 0.0 & -9.80409558930338 & 0.0 & 0.0\\\\0.0 & 0.0 & 26.4575131106459 & 0.0 & 0.0 & 0.0\\\\0.0 & -0.00553610917924287 & 0.0 & 26.4575125314435 & 0.0 & 0.0\\\\0.00553610917924287 & 0.0 & 0.0 & 0.0 & 26.4575125314435 & 0.0\\\\0.0 & 0.0 & 0.0 & 0.0 & 0.0 & 26.4575131106459\\end{matrix}\\right]$"
      ],
      "text/plain": [
       "Matrix([\n",
       "[   27.5027895209698,                  0.0,              0.0,                0.0, 0.178546830337838,              0.0],\n",
       "[                0.0,     27.5027895209698,              0.0, -0.178546830337838,               0.0,              0.0],\n",
       "[                0.0,                  0.0,  27.439297116021,                0.0,               0.0,              0.0],\n",
       "[                0.0,   -0.178546830337838,              0.0,   27.4387161888501,               0.0,              0.0],\n",
       "[  0.178546830337838,                  0.0,              0.0,                0.0,  27.4387161888501,              0.0],\n",
       "[                0.0,                  0.0,              0.0,                0.0,               0.0,  27.439297116021],\n",
       "[   28.2176552026905,                  0.0,              0.0,                0.0,  9.80409558930338,              0.0],\n",
       "[                0.0,     28.2176552026905,              0.0,  -9.80409558930338,               0.0,              0.0],\n",
       "[                0.0,                  0.0, 26.4575131106459,                0.0,               0.0,              0.0],\n",
       "[                0.0, -0.00553610917924287,              0.0,   26.4575125314435,               0.0,              0.0],\n",
       "[0.00553610917924287,                  0.0,              0.0,                0.0,  26.4575125314435,              0.0],\n",
       "[                0.0,                  0.0,              0.0,                0.0,               0.0, 26.4575131106459]])"
      ]
     },
     "execution_count": 33,
     "metadata": {},
     "output_type": "execute_result"
    }
   ],
   "source": [
    "Qk = np.diag((15,25,20, 1,1,1, 5,1,5, 1,1,1))\n",
    "Rk = np.diag((22,22,22,22))\n",
    "Pk = linalg.solve_continuous_are(A,B,Qk,Rk)\n",
    "K=linalg.inv(Rk) @ B.T @ Pk\n",
    "Ql = 700*np.eye(6)\n",
    "Rl = np.eye(12)\n",
    "Pl = linalg.solve_continuous_are(A.T,C.T,np.linalg.inv(Rl),np.linalg.inv(Ql))\n",
    "L=Pl @ C.T @ Ql\n",
    "k = sym.Matrix(K)\n",
    "l = sym.Matrix(L)\n",
    "l"
   ]
  },
  {
   "cell_type": "markdown",
   "id": "assisted-vegetable",
   "metadata": {},
   "source": [
    "## Stability Check"
   ]
  },
  {
   "cell_type": "code",
   "execution_count": 11,
   "id": "novel-telescope",
   "metadata": {},
   "outputs": [
    {
     "name": "stdout",
     "output_type": "stream",
     "text": [
      "System is stable\n"
     ]
    }
   ],
   "source": [
    "Fk=A-B@K\n",
    "Fl=A-L@C\n",
    "eigFk=linalg.eigvals(Fk)\n",
    "eigFl=linalg.eigvals(Fl)#eigFl\n",
    "if (eigFk.real < 0).all() and (eigFk.real < 0).all():\n",
    "    print('System is stable')\n",
    "else:\n",
    "    print('System is not stable: Readjust')"
   ]
  },
  {
   "cell_type": "markdown",
   "id": "strategic-moore",
   "metadata": {},
   "source": [
    "## Robot Controllers"
   ]
  },
  {
   "cell_type": "markdown",
   "id": "electronic-repository",
   "metadata": {},
   "source": [
    "## Controller 1"
   ]
  },
  {
   "cell_type": "code",
   "execution_count": 12,
   "id": "mathematical-emphasis",
   "metadata": {},
   "outputs": [],
   "source": [
    "class RobotController:\n",
    "    def __init__(self, limiter=None):\n",
    "        self.dt = 0.01\n",
    "        self.limiter = limiter\n",
    "        \n",
    "        self.A = A.astype(float)\n",
    "        self.B = B.astype(float)\n",
    "        self.C = C.astype(float)\n",
    "        self.K = K.astype(float)\n",
    "        self.L = L.astype(float)\n",
    "        \n",
    "        self.p_xe = p_xe \n",
    "        self.p_ye = p_ye\n",
    "        self.p_ze = p_ze\n",
    "        self.phie = phie\n",
    "        self.thetae = theta\n",
    "        self.psie = psie\n",
    "        self.v_xe = v_xe\n",
    "        self.v_ye = v_ye\n",
    "        self.v_ze = v_ze\n",
    "        self.w_xe = w_xe\n",
    "        self.w_ye = w_ye\n",
    "        self.w_ze = w_ze\n",
    "        self.tau_xe = tau_xe\n",
    "        self.tau_ye = tau_ye\n",
    "        self.tau_ze = tau_ze\n",
    "        self.f_ze = f_ze \n",
    "\n",
    "    def get_color(self):\n",
    "        return [0., 1., 0.]\n",
    "\n",
    "    def reset(self, pos):\n",
    "        self.xhat = np.zeros((12,1))\n",
    "\n",
    "    def run(self, pos, rpy, pos_ring, is_last_ring, pos_others):\n",
    "        \n",
    "        pest = np.array([self.xhat[0], self.xhat[1], self.xhat[2]])\n",
    "        pest = pest.T[0]\n",
    "        \n",
    "        pxdes = pos_ring[0]\n",
    "        pydes = pos_ring[1]\n",
    "        pzdes = pos_ring[2]\n",
    "        pxest = pest[0]\n",
    "        pyest = pest[1]\n",
    "        pzest = pest[2]\n",
    "        \n",
    "        err = pos_ring - pest\n",
    "        \n",
    "        if abs(err[1]) > .65:\n",
    "            pxdes = pxdes - 1.675\n",
    "        \n",
    "        err = pos_ring - pest\n",
    "        \n",
    "        if abs(err[1]) > 2.5:\n",
    "            pxdes = pxest + (3.9 * err[0]/(np.linalg.norm(err)))\n",
    "            pydes = pyest + (4.8 * err[1]/(np.linalg.norm(err)))\n",
    "            pzdes = pzest + (10. * err[2]/(np.linalg.norm(err)))\n",
    "        else:\n",
    "            pxdes = pxest + (3.9 * err[0]/(np.linalg.norm(err)))\n",
    "            pydes = pyest + (3.2 * err[1]/(np.linalg.norm(err)))\n",
    "            pzdes = pzest + (10. * err[2]/(np.linalg.norm(err)))\n",
    "            \n",
    "        #take off protocol\n",
    "        if pos[0] < 2.5 and pos[1] < 2.5 and pos[2] < 1.25:\n",
    "            pzdes = 5\n",
    "            \n",
    "        #landing protocol\n",
    "        if is_last_ring == True and (err[0] > 1.8 or err[1] > 1.8):\n",
    "            pzdes = 2.25\n",
    "            \n",
    "        xhatdes = np.array([[pxdes], [pydes], [pzdes], [0], [0], [0], [0], [0], [0], [0], [0], [0]])\n",
    "        u = -self.K@(self.xhat-xhatdes)\n",
    "        \n",
    "        tau_x = u[0, 0] + self.tau_xe\n",
    "        tau_y = u[1, 0] + self.tau_ye\n",
    "        tau_z = u[2, 0] + self.tau_ze\n",
    "        f_z = u[3, 0] + self.f_ze\n",
    "        \n",
    "        y = np.block([pos, rpy]).reshape(6, 1).astype(float)\n",
    "        \n",
    "        self.xhat = self.xhat + self.dt*(self.A@self.xhat+self.B@u-self.L@(self.C@self.xhat - y))\n",
    "\n",
    "        if self.limiter is not None:\n",
    "            tau_x, tau_y, tau_z, f_z = self.limiter(tau_x, tau_y, tau_z, f_z)\n",
    "\n",
    "        return tau_x, tau_y, tau_z, f_z"
   ]
  },
  {
   "cell_type": "markdown",
   "id": "broadband-uzbekistan",
   "metadata": {},
   "source": [
    "## Controller 2"
   ]
  },
  {
   "cell_type": "code",
   "execution_count": 13,
   "id": "express-organization",
   "metadata": {},
   "outputs": [],
   "source": [
    "class RobotControllerv1:\n",
    "    def __init__(self, limiter=None):\n",
    "        self.dt = 0.01\n",
    "        self.limiter = limiter\n",
    "        \n",
    "        self.A = A.astype(float)\n",
    "        self.B = B.astype(float)\n",
    "        self.C = C.astype(float)\n",
    "        self.K = K.astype(float)\n",
    "        self.L = L.astype(float)\n",
    "        \n",
    "        self.p_xe = p_xe \n",
    "        self.p_ye = p_ye\n",
    "        self.p_ze = p_ze\n",
    "        self.phie = phie\n",
    "        self.thetae = theta\n",
    "        self.psie = psie\n",
    "        self.v_xe = v_xe\n",
    "        self.v_ye = v_ye\n",
    "        self.v_ze = v_ze\n",
    "        self.w_xe = w_xe\n",
    "        self.w_ye = w_ye\n",
    "        self.w_ze = w_ze\n",
    "        self.tau_xe = tau_xe\n",
    "        self.tau_ye = tau_ye\n",
    "        self.tau_ze = tau_ze\n",
    "        self.f_ze = f_ze \n",
    "\n",
    "    def get_color(self):\n",
    "        return [0., 1., 0.]\n",
    "\n",
    "    def reset(self, pos):\n",
    "        self.xhat = np.zeros((12,1))\n",
    "        self.t = 0\n",
    "\n",
    "    def run(self, pos, rpy, pos_ring, is_last_ring, pos_others):\n",
    "        self.t = self.t + self.dt\n",
    "        \n",
    "        pest = np.array([self.xhat[0], self.xhat[1], self.xhat[2]])\n",
    "        pest = pest.T[0]\n",
    "        \n",
    "        pxdes = pos_ring[0]\n",
    "        pydes = pos_ring[1]\n",
    "        pzdes = pos_ring[2]\n",
    "        pxest = pest[0]\n",
    "        pyest = pest[1]\n",
    "        pzest = pest[2]\n",
    "        \n",
    "        err = pos_ring - pest\n",
    "        \n",
    "        if ((pos_ring[0] - self.xhat[0]) > 0.5):\n",
    "            pxdes = pest[0] + (3 * err[0]/(np.linalg.norm(err)))\n",
    "            pydes = pest[1] + (3 * err[1]/(np.linalg.norm(err)))\n",
    "            pzdes = pest[2] + (6 * err[2]/(np.linalg.norm(err)))\n",
    "        else:\n",
    "            pxdes = pest[0] + (1 * err[0]/(np.linalg.norm(err)))\n",
    "            pydes = pest[1] + (1 * err[1]/(np.linalg.norm(err)))\n",
    "            pzdes = pest[2] + (3 * err[2]/(np.linalg.norm(err)))\n",
    "        \n",
    "        if (self.t < 3 and pos_ring[2] < 1):\n",
    "            pzdes = 2\n",
    "        elif (self.t < 1):\n",
    "            pzdes = 3\n",
    "            \n",
    "        if is_last_ring:\n",
    "            pzdes = 2\n",
    "            \n",
    "        xhatdes = np.array([[pxdes - p_xe], [pydes - p_ye], [pzdes - p_ze], [0], [0], [0], [0], [0], [0], [0], [0], [0]])\n",
    "        u = -self.K@(self.xhat-xhatdes)\n",
    "        \n",
    "        tau_x = u[0, 0] + self.tau_xe\n",
    "        tau_y = u[1, 0] + self.tau_ye\n",
    "        tau_z = u[2, 0] + self.tau_ze\n",
    "        f_z = u[3, 0] + self.f_ze\n",
    "        \n",
    "        y = np.block([pos, rpy]).reshape(6, 1).astype(float)\n",
    "        \n",
    "        self.xhat = self.xhat + self.dt*(self.A@self.xhat+self.B@u-self.L@(self.C@self.xhat - y))\n",
    "\n",
    "        if self.limiter is not None:\n",
    "            tau_x, tau_y, tau_z, f_z = self.limiter(tau_x, tau_y, tau_z, f_z)\n",
    "        if is_last_ring and (np.linalg.norm(pos_ring - pest) < 3):\n",
    "            return 0, 0, 0, 0\n",
    "\n",
    "        return tau_x, tau_y, tau_z, f_z"
   ]
  },
  {
   "cell_type": "markdown",
   "id": "inside-decade",
   "metadata": {},
   "source": [
    "## Controller 3"
   ]
  },
  {
   "cell_type": "code",
   "execution_count": 14,
   "id": "convertible-hygiene",
   "metadata": {},
   "outputs": [],
   "source": [
    "# class RobotControllerv2:\n",
    "#     def __init__(self, limiter=None):\n",
    "#         self.dt = 0.01\n",
    "#         self.limiter = limiter\n",
    "        \n",
    "#         self.A = A.astype(float)\n",
    "#         self.B = B.astype(float)\n",
    "#         self.C = C.astype(float)\n",
    "#         self.K = K.astype(float)\n",
    "#         self.L = L.astype(float)\n",
    "        \n",
    "#         self.p_xe = p_xe \n",
    "#         self.p_ye = p_ye\n",
    "#         self.p_ze = p_ze\n",
    "#         self.phie = phie\n",
    "#         self.thetae = theta\n",
    "#         self.psie = psie\n",
    "#         self.v_xe = v_xe\n",
    "#         self.v_ye = v_ye\n",
    "#         self.v_ze = v_ze\n",
    "#         self.w_xe = w_xe\n",
    "#         self.w_ye = w_ye\n",
    "#         self.w_ze = w_ze\n",
    "#         self.tau_xe = tau_xe\n",
    "#         self.tau_ye = tau_ye\n",
    "#         self.tau_ze = tau_ze\n",
    "#         self.f_ze = f_ze \n",
    "\n",
    "#     def get_color(self):\n",
    "#         return [0., 1., 0.]\n",
    "\n",
    "#     def reset(self, pos):\n",
    "#         self.xhat = np.zeros((12,1))\n",
    "#         #self.t = 0\n",
    "\n",
    "#     def run(self, pos, rpy, pos_ring, is_last_ring, pos_others):\n",
    "#         #self.t = self.t + self.dt\n",
    "        \n",
    "#         pest = np.array([self.xhat[0], self.xhat[1], self.xhat[2]])\n",
    "#         pest = pest.T[0]\n",
    "        \n",
    "#         pxdes = pos_ring[0]\n",
    "#         pydes = pos_ring[1]\n",
    "#         pzdes = pos_ring[2]\n",
    "#         pxest = pest[0]\n",
    "#         pyest = pest[1]\n",
    "#         pzest = pest[2]\n",
    "        \n",
    "#         err = pos_ring - pest\n",
    "        \n",
    "#         if ((pos_ring[0] - self.xhat[0]) > 0.5):\n",
    "#             pxdes = pest[0] + (3 * err[0]/(np.linalg.norm(err)))\n",
    "#             pydes = pest[1] + (3 * err[1]/(np.linalg.norm(err)))\n",
    "#             pzdes = pest[2] + (6 * err[2]/(np.linalg.norm(err)))\n",
    "#         else:\n",
    "#             pxdes = pest[0] + (1 * err[0]/(np.linalg.norm(err)))\n",
    "#             pydes = pest[1] + (1 * err[1]/(np.linalg.norm(err)))\n",
    "#             pzdes = pest[2] + (3 * err[2]/(np.linalg.norm(err)))\n",
    "        \n",
    "#         if (self.t < 3 and pos_ring[2] < 1):\n",
    "#             pzdes = 2\n",
    "#         elif (self.t < 1):\n",
    "#             pzdes = 3\n",
    "            \n",
    "#         if is_last_ring:\n",
    "#             pzdes = 2\n",
    "            \n",
    "#         xhatdes = np.array([[pxdes - p_xe], [pydes - p_ye], [pzdes - p_ze], [0], [0], [0], [0], [0], [0], [0], [0], [0]])\n",
    "#         u = -self.K@(self.xhat-xhatdes)\n",
    "        \n",
    "#         tau_x = u[0, 0] + self.tau_xe\n",
    "#         tau_y = u[1, 0] + self.tau_ye\n",
    "#         tau_z = u[2, 0] + self.tau_ze\n",
    "#         f_z = u[3, 0] + self.f_ze\n",
    "        \n",
    "#         y = np.block([pos, rpy]).reshape(6, 1).astype(float)\n",
    "        \n",
    "#         self.xhat = self.xhat + self.dt*(self.A@self.xhat+self.B@u-self.L@(self.C@self.xhat - y))\n",
    "\n",
    "#         if self.limiter is not None:\n",
    "#             tau_x, tau_y, tau_z, f_z = self.limiter(tau_x, tau_y, tau_z, f_z)\n",
    "#         if is_last_ring and (np.linalg.norm(pos_ring - pest) < 3):\n",
    "#             return 0, 0, 0, 0\n",
    "\n",
    "#         return tau_x, tau_y, tau_z, f_z"
   ]
  },
  {
   "cell_type": "markdown",
   "id": "christian-citation",
   "metadata": {},
   "source": [
    "Add the drone to the simulator. There are three arguments:\n",
    "\n",
    "* `RobotController` is the class definition\n",
    "* `'my_netid'` is the name of the drone\n",
    "* `'my_image.png'` is the name of an image to use as a label (can be `None`, can be a file path)\n",
    "\n",
    "You can call this function more than once, so long as you call it with a different drone name each time. An exception will be raised if you try to add two drones of the same name to the simulator."
   ]
  },
  {
   "cell_type": "markdown",
   "id": "environmental-refrigerator",
   "metadata": {},
   "source": [
    "Create simulator."
   ]
  },
  {
   "cell_type": "code",
   "execution_count": 15,
   "id": "needed-motion",
   "metadata": {},
   "outputs": [],
   "source": [
    "simulator = ae353_drone.Simulator(display=False, seed = 1)"
   ]
  },
  {
   "cell_type": "code",
   "execution_count": 16,
   "id": "exceptional-aspect",
   "metadata": {},
   "outputs": [],
   "source": [
    "simulator.clear_drones()\n",
    "simulator.add_drone(RobotController, 'bout2', None)\n",
    "simulator.camera_droneview('bout2')"
   ]
  },
  {
   "cell_type": "markdown",
   "id": "basic-variance",
   "metadata": {},
   "source": [
    "Reset the drone (i.e., place it at a random location in the start ring)."
   ]
  },
  {
   "cell_type": "code",
   "execution_count": 17,
   "id": "scientific-friendly",
   "metadata": {},
   "outputs": [],
   "source": [
    "simulator.reset()"
   ]
  },
  {
   "cell_type": "markdown",
   "id": "dress-product",
   "metadata": {},
   "source": [
    "Run simulation until `max_time` is reached or until the drone reaches the finish ring."
   ]
  },
  {
   "cell_type": "code",
   "execution_count": 18,
   "id": "streaming-narrative",
   "metadata": {},
   "outputs": [
    {
     "name": "stdout",
     "output_type": "stream",
     "text": [
      "FINISHED: drone \"bout2\" at time 12.33\n"
     ]
    }
   ],
   "source": [
    "simulator.run(max_time=None)"
   ]
  },
  {
   "cell_type": "markdown",
   "id": "registered-faith",
   "metadata": {},
   "source": [
    "## Example of how to get and plot results\n",
    "\n",
    "Assume that we already did two things:\n",
    "\n",
    "* Added a drone with the name `my_netid` to the simulator\n",
    "* Ran the simulation"
   ]
  },
  {
   "cell_type": "markdown",
   "id": "colonial-helicopter",
   "metadata": {},
   "source": [
    "Get drone by name."
   ]
  },
  {
   "cell_type": "code",
   "execution_count": 19,
   "id": "agricultural-coach",
   "metadata": {},
   "outputs": [],
   "source": [
    "drone_name = 'bout2'\n",
    "drone = simulator.get_drone_by_name(drone_name)\n",
    "\n",
    "if drone is None:\n",
    "    drone_names = '\\n'.join([d['name'] for d in simulator.drones])\n",
    "    msg = f'The simulator has no drone with name \"{drone_name}\".'\n",
    "    if len(drone_names) == 0:\n",
    "        msg += f' The simulator has no drones at all, in fact.'\n",
    "    else:\n",
    "        msg += f' The simulator has these drones:'\n",
    "        msg += f'\\n==========\\n{drone_names}\\n==========\\n'\n",
    "    print(msg)"
   ]
  },
  {
   "cell_type": "markdown",
   "id": "polished-advisory",
   "metadata": {},
   "source": [
    "Extract data."
   ]
  },
  {
   "cell_type": "code",
   "execution_count": 20,
   "id": "liked-handle",
   "metadata": {},
   "outputs": [],
   "source": [
    "data = drone['data'].copy()"
   ]
  },
  {
   "cell_type": "markdown",
   "id": "concrete-combining",
   "metadata": {},
   "source": [
    "Convert all lists in data to numpy arrays."
   ]
  },
  {
   "cell_type": "code",
   "execution_count": 21,
   "id": "alive-capacity",
   "metadata": {},
   "outputs": [],
   "source": [
    "for key in data.keys():\n",
    "    data[key] = np.array(data[key]).T"
   ]
  },
  {
   "cell_type": "markdown",
   "id": "blond-static",
   "metadata": {},
   "source": [
    "Did the drone finish? If so, what was the time at which it finished? If not, was it still running (or was there likely an error)?"
   ]
  },
  {
   "cell_type": "code",
   "execution_count": 22,
   "id": "greenhouse-steering",
   "metadata": {},
   "outputs": [
    {
     "name": "stdout",
     "output_type": "stream",
     "text": [
      "The drone \"bout2\" finished with time: 12.33\n"
     ]
    }
   ],
   "source": [
    "if drone['finish_time'] is None:\n",
    "    if drone['running']:\n",
    "        print(f'The drone \"{drone[\"name\"]}\" did not finish.')\n",
    "    else:\n",
    "        print(f'The drone \"{drone[\"name\"]}\" did not finish and was no longer running.')\n",
    "else:\n",
    "    print(f'The drone \"{drone[\"name\"]}\" finished with time: {drone[\"finish_time\"]}')"
   ]
  },
  {
   "cell_type": "markdown",
   "id": "cognitive-nomination",
   "metadata": {},
   "source": [
    "Plot results."
   ]
  },
  {
   "cell_type": "code",
   "execution_count": 30,
   "id": "informed-watson",
   "metadata": {
    "scrolled": true
   },
   "outputs": [
    {
     "data": {
      "image/png": "[encoded data removed]",
      "text/plain": [
       "<Figure size 648x864 with 3 Axes>"
      ]
     },
     "metadata": {
      "needs_background": "light"
     },
     "output_type": "display_data"
    }
   ],
   "source": [
    "# Create a figure with subplots that all share the same x-axis\n",
    "fig, (ax_pos, ax_rpy, ax_act) = plt.subplots(3, 1, figsize=(9, 12), sharex=True)\n",
    "\n",
    "# Position\n",
    "ax_pos.plot(data['t'], data['pos'][0, :], label='x (m)', linewidth=4)\n",
    "ax_pos.plot(data['t'], data['pos'][1, :], label='y (m)', linewidth=4)\n",
    "ax_pos.plot(data['t'], data['pos'][2, :], label='z (m)', linewidth=4)\n",
    "ax_pos.grid()\n",
    "ax_pos.legend(fontsize=16)\n",
    "ax_pos.tick_params(labelsize=14)\n",
    "\n",
    "# Roll, pitch, and yaw angles\n",
    "ax_rpy.plot(data['t'], data['rpy'][0, :], label='roll (rad)', linewidth=4)\n",
    "ax_rpy.plot(data['t'], data['rpy'][1, :], label='pitch (rad)', linewidth=4)\n",
    "ax_rpy.plot(data['t'], data['rpy'][2, :], label='yaw (rad)', linewidth=4)\n",
    "ax_rpy.grid()\n",
    "ax_rpy.legend(fontsize=16)\n",
    "ax_rpy.tick_params(labelsize=14)\n",
    "\n",
    "# Actuator commands\n",
    "ax_act.plot(data['t'], data['tau_x'], label='tau_x (N-m)', linewidth=4)\n",
    "ax_act.plot(data['t'], data['tau_y'], label='tau_y (N-m)', linewidth=4)\n",
    "ax_act.plot(data['t'], data['tau_z'], label='tau_z (N-m)', linewidth=4)\n",
    "ax_act.plot(data['t'], data['f_z'], label='f_z (N)', linewidth=4)\n",
    "ax_act.grid()\n",
    "ax_act.legend(fontsize=16)\n",
    "ax_act.tick_params(labelsize=14)\n",
    "\n",
    "# Set shared x-axis properties\n",
    "ax_act.set_xlabel('time (s)', fontsize=20)\n",
    "ax_act.set_xlim([data['t'][0], data['t'][-1]])\n",
    "\n",
    "# Make the arrangement of subplots look nice\n",
    "fig.tight_layout()"
   ]
  },
  {
   "cell_type": "markdown",
   "id": "determined-ground",
   "metadata": {},
   "source": [
    "## 100 Simulations"
   ]
  },
  {
   "cell_type": "code",
   "execution_count": 24,
   "id": "future-advertising",
   "metadata": {},
   "outputs": [
    {
     "name": "stdout",
     "output_type": "stream",
     "text": [
      "FINISHED: drone \"bout2\" at time 12.66\n",
      "FINISHED: drone \"bout2\" at time 13.16\n",
      "Loading...\n",
      "FINISHED: drone \"bout2\" at time 10.52\n",
      "FINISHED: drone \"bout2\" at time 12.60\n",
      "FINISHED: drone \"bout2\" at time 11.57\n",
      "FINISHED: drone \"bout2\" at time 11.34\n",
      "FINISHED: drone \"bout2\" at time 12.32\n",
      "10 / 100 completed\n",
      "FINISHED: drone \"bout2\" at time 12.45\n",
      "FINISHED: drone \"bout2\" at time 11.30\n",
      "FINISHED: drone \"bout2\" at time 11.92\n",
      "FINISHED: drone \"bout2\" at time 13.11\n",
      "FINISHED: drone \"bout2\" at time 14.06\n",
      "20 / 100 completed\n",
      "FINISHED: drone \"bout2\" at time 15.34\n",
      "FINISHED: drone \"bout2\" at time 11.95\n",
      "FINISHED: drone \"bout2\" at time 11.02\n",
      "FINISHED: drone \"bout2\" at time 13.62\n",
      "FINISHED: drone \"bout2\" at time 11.92\n",
      "FINISHED: drone \"bout2\" at time 19.36\n",
      "FINISHED: drone \"bout2\" at time 14.26\n",
      "FINISHED: drone \"bout2\" at time 11.63\n",
      "FINISHED: drone \"bout2\" at time 29.57\n",
      "30 / 100 completed\n",
      "FINISHED: drone \"bout2\" at time 17.49\n",
      "FINISHED: drone \"bout2\" at time 13.68\n",
      "FINISHED: drone \"bout2\" at time 13.17\n",
      "FINISHED: drone \"bout2\" at time 12.41\n",
      "FINISHED: drone \"bout2\" at time 12.03\n",
      "FINISHED: drone \"bout2\" at time 12.86\n",
      "FINISHED: drone \"bout2\" at time 12.46\n",
      "FINISHED: drone \"bout2\" at time 12.61\n",
      "40 / 100 completed\n",
      "FINISHED: drone \"bout2\" at time 11.21\n",
      "FINISHED: drone \"bout2\" at time 11.36\n",
      "FINISHED: drone \"bout2\" at time 13.58\n",
      "FINISHED: drone \"bout2\" at time 10.70\n",
      "FINISHED: drone \"bout2\" at time 12.39\n",
      "FINISHED: drone \"bout2\" at time 11.87\n",
      "FINISHED: drone \"bout2\" at time 13.53\n",
      "50 / 100 completed\n",
      "FINISHED: drone \"bout2\" at time 20.12\n",
      "FINISHED: drone \"bout2\" at time 22.28\n",
      "FINISHED: drone \"bout2\" at time 12.09\n",
      "FINISHED: drone \"bout2\" at time 12.72\n",
      "FINISHED: drone \"bout2\" at time 15.88\n",
      "FINISHED: drone \"bout2\" at time 10.96\n",
      "FINISHED: drone \"bout2\" at time 11.01\n",
      "FINISHED: drone \"bout2\" at time 14.80\n",
      "60 / 100 completed\n",
      "FINISHED: drone \"bout2\" at time 23.14\n",
      "FINISHED: drone \"bout2\" at time 15.80\n",
      "FINISHED: drone \"bout2\" at time 12.39\n",
      "FINISHED: drone \"bout2\" at time 13.29\n",
      "FINISHED: drone \"bout2\" at time 11.38\n",
      "70 / 100 completed\n",
      "FINISHED: drone \"bout2\" at time 14.04\n",
      "FINISHED: drone \"bout2\" at time 14.46\n",
      "FINISHED: drone \"bout2\" at time 11.62\n",
      "FINISHED: drone \"bout2\" at time 29.32\n",
      "FINISHED: drone \"bout2\" at time 29.25\n",
      "FINISHED: drone \"bout2\" at time 13.15\n",
      "FINISHED: drone \"bout2\" at time 11.94\n",
      "80 / 100 completed\n",
      "FINISHED: drone \"bout2\" at time 20.08\n",
      "FINISHED: drone \"bout2\" at time 11.77\n",
      "FINISHED: drone \"bout2\" at time 12.48\n",
      "FINISHED: drone \"bout2\" at time 15.07\n",
      "FINISHED: drone \"bout2\" at time 12.02\n",
      "FINISHED: drone \"bout2\" at time 12.72\n",
      "FINISHED: drone \"bout2\" at time 15.63\n",
      "FINISHED: drone \"bout2\" at time 12.60\n",
      "FINISHED: drone \"bout2\" at time 13.27\n",
      "90 / 100 completed\n",
      "FINISHED: drone \"bout2\" at time 15.06\n",
      "FINISHED: drone \"bout2\" at time 11.31\n",
      "FINISHED: drone \"bout2\" at time 12.76\n",
      "FINISHED: drone \"bout2\" at time 12.42\n",
      "FINISHED: drone \"bout2\" at time 19.39\n",
      "FINISHED: drone \"bout2\" at time 16.41\n",
      "FINISHED: drone \"bout2\" at time 15.52\n",
      "FINISHED: drone \"bout2\" at time 12.09\n",
      "FINISHED: drone \"bout2\" at time 14.86\n",
      "100 / 100 completed\n",
      "DONE\n",
      "Fails:  26 / 100\n",
      "Successes:  74 / 100\n"
     ]
    },
    {
     "ename": "AttributeError",
     "evalue": "module 'matplotlib.pyplot' has no attribute 'ylable'",
     "output_type": "error",
     "traceback": [
      "\u001b[1;31m---------------------------------------------------------------------------\u001b[0m",
      "\u001b[1;31mAttributeError\u001b[0m                            Traceback (most recent call last)",
      "\u001b[1;32m<ipython-input-24-08f38881e2c2>\u001b[0m in \u001b[0;36m<module>\u001b[1;34m\u001b[0m\n\u001b[0;32m     45\u001b[0m \u001b[0mplt\u001b[0m\u001b[1;33m.\u001b[0m\u001b[0mhist\u001b[0m\u001b[1;33m(\u001b[0m\u001b[0mfinishes\u001b[0m\u001b[1;33m)\u001b[0m\u001b[1;33m\u001b[0m\u001b[1;33m\u001b[0m\u001b[0m\n\u001b[0;32m     46\u001b[0m \u001b[0mplt\u001b[0m\u001b[1;33m.\u001b[0m\u001b[0mxlabel\u001b[0m\u001b[1;33m(\u001b[0m\u001b[1;34m'time'\u001b[0m\u001b[1;33m)\u001b[0m\u001b[1;33m\u001b[0m\u001b[1;33m\u001b[0m\u001b[0m\n\u001b[1;32m---> 47\u001b[1;33m \u001b[0mplt\u001b[0m\u001b[1;33m.\u001b[0m\u001b[0mylable\u001b[0m\u001b[1;33m(\u001b[0m\u001b[1;34m'frequency'\u001b[0m\u001b[1;33m)\u001b[0m\u001b[1;33m\u001b[0m\u001b[1;33m\u001b[0m\u001b[0m\n\u001b[0m\u001b[0;32m     48\u001b[0m \u001b[0mplt\u001b[0m\u001b[1;33m.\u001b[0m\u001b[0mshow\u001b[0m\u001b[1;33m(\u001b[0m\u001b[1;33m)\u001b[0m\u001b[1;33m\u001b[0m\u001b[1;33m\u001b[0m\u001b[0m\n\u001b[0;32m     49\u001b[0m \u001b[1;33m\u001b[0m\u001b[0m\n",
      "\u001b[1;31mAttributeError\u001b[0m: module 'matplotlib.pyplot' has no attribute 'ylable'"
     ]
    },
    {
     "data": {
      "image/png": "[encoded data removed]",
      "text/plain": [
       "<Figure size 432x288 with 1 Axes>"
      ]
     },
     "metadata": {
      "needs_background": "light"
     },
     "output_type": "display_data"
    }
   ],
   "source": [
    "simulator = ae353_drone.Simulator(display=False, seed = 353)\n",
    "simulator.clear_drones()\n",
    "simulator.add_drone(RobotController, 'bout2', None)\n",
    "\n",
    "num_sims = 100\n",
    "\n",
    "fails = 0\n",
    "successes = 0\n",
    "\n",
    "finishes = []\n",
    "\n",
    "for i in range(num_sims):\n",
    "    simulator.reset()\n",
    "    simulator.move_rings()\n",
    "    simulator.run(max_time = 30.)\n",
    "    \n",
    "    drone_name = 'bout2'\n",
    "    drone = simulator.get_drone_by_name(drone_name)\n",
    "        \n",
    "    if drone['finish_time'] is None:\n",
    "        if drone['running']:\n",
    "            fails += 1\n",
    "        else:\n",
    "            fails += 1\n",
    "    else:\n",
    "        successes += 1\n",
    "        finishes.append(drone['finish_time'])\n",
    "        \n",
    "    data = drone['data'].copy()\n",
    "    for key in data.keys():\n",
    "        data[key] = np.array(data[key]).T\n",
    "    \n",
    "    if i == 1:\n",
    "        print('Loading...')\n",
    "    \n",
    "    if (i + 1) % 10 == 0:\n",
    "        print(i+1, '/', num_sims, 'completed')\n",
    "        \n",
    "    if i == num_sims - 1:\n",
    "        print('DONE')\n",
    "        \n",
    "print('Fails: ', fails, '/', num_sims)\n",
    "print('Successes: ', successes, '/', num_sims)\n",
    "\n",
    "plt.hist(finishes)\n",
    "plt.xlabel('time')\n",
    "plt.ylable('frequency')\n",
    "plt.show()\n",
    "\n",
    "print('Average: ', np.mean(finishes), 's')"
   ]
  },
  {
   "cell_type": "markdown",
   "id": "secondary-condition",
   "metadata": {},
   "source": [
    "## Example of how to load drones from the \"students\" directory"
   ]
  },
  {
   "cell_type": "markdown",
   "id": "proprietary-camel",
   "metadata": {},
   "source": [
    "Load drones from `students` directory."
   ]
  },
  {
   "cell_type": "code",
   "execution_count": null,
   "id": "adolescent-anime",
   "metadata": {},
   "outputs": [],
   "source": [
    "#simulator.load_drones()"
   ]
  },
  {
   "cell_type": "markdown",
   "id": "progressive-catch",
   "metadata": {},
   "source": [
    "Reset drones (places drones at random positions within the start ring)."
   ]
  },
  {
   "cell_type": "code",
   "execution_count": null,
   "id": "noted-filter",
   "metadata": {},
   "outputs": [],
   "source": [
    "#simulator.reset()"
   ]
  },
  {
   "cell_type": "markdown",
   "id": "broke-water",
   "metadata": {},
   "source": [
    "Run simulation for `max_time` seconds or until all drones finish."
   ]
  },
  {
   "cell_type": "code",
   "execution_count": null,
   "id": "russian-thunder",
   "metadata": {},
   "outputs": [],
   "source": [
    "#simulator.run(max_time=5.0)"
   ]
  },
  {
   "cell_type": "markdown",
   "id": "small-nation",
   "metadata": {},
   "source": [
    "## Example of how to show results, change views, keep running"
   ]
  },
  {
   "cell_type": "markdown",
   "id": "engaged-award",
   "metadata": {},
   "source": [
    "Show results (so far)."
   ]
  },
  {
   "cell_type": "code",
   "execution_count": null,
   "id": "exclusive-orlando",
   "metadata": {},
   "outputs": [],
   "source": [
    "#simulator.show_results()"
   ]
  },
  {
   "cell_type": "markdown",
   "id": "superior-sydney",
   "metadata": {},
   "source": [
    "View from behind a particular drone."
   ]
  },
  {
   "cell_type": "code",
   "execution_count": null,
   "id": "cutting-ecuador",
   "metadata": {},
   "outputs": [],
   "source": [
    "#simulator.camera_droneview('template')"
   ]
  },
  {
   "cell_type": "markdown",
   "id": "american-corpus",
   "metadata": {},
   "source": [
    "Continue running simulation from same point for `max_time` seconds or until all drones finish."
   ]
  },
  {
   "cell_type": "code",
   "execution_count": null,
   "id": "known-retail",
   "metadata": {},
   "outputs": [],
   "source": [
    "#simulator.run(max_time=5.0)"
   ]
  },
  {
   "cell_type": "markdown",
   "id": "herbal-twenty",
   "metadata": {},
   "source": [
    "View from finish ring instead of from start ring."
   ]
  },
  {
   "cell_type": "code",
   "execution_count": null,
   "id": "trained-martin",
   "metadata": {},
   "outputs": [],
   "source": [
    "#simulator.camera_finishview()"
   ]
  },
  {
   "cell_type": "markdown",
   "id": "joined-nature",
   "metadata": {},
   "source": [
    "Continue running simulation from same point for `max_time` seconds or until all drones finish."
   ]
  },
  {
   "cell_type": "code",
   "execution_count": null,
   "id": "supposed-amplifier",
   "metadata": {},
   "outputs": [],
   "source": [
    "#simulator.run(max_time=5.0)"
   ]
  },
  {
   "cell_type": "markdown",
   "id": "engaged-indonesian",
   "metadata": {},
   "source": [
    "Show results (so far)."
   ]
  },
  {
   "cell_type": "code",
   "execution_count": null,
   "id": "minor-superintendent",
   "metadata": {},
   "outputs": [],
   "source": [
    "#simulator.show_results()"
   ]
  },
  {
   "cell_type": "markdown",
   "id": "earned-somewhere",
   "metadata": {},
   "source": [
    "## Example of how to clear and reload drones"
   ]
  },
  {
   "cell_type": "markdown",
   "id": "civilian-interface",
   "metadata": {},
   "source": [
    "Clear all drones."
   ]
  },
  {
   "cell_type": "code",
   "execution_count": null,
   "id": "economic-miller",
   "metadata": {},
   "outputs": [],
   "source": [
    "#simulator.clear_drones()"
   ]
  },
  {
   "cell_type": "markdown",
   "id": "smoking-animation",
   "metadata": {},
   "source": [
    "Load drones again from `students` directory."
   ]
  },
  {
   "cell_type": "code",
   "execution_count": null,
   "id": "rental-member",
   "metadata": {},
   "outputs": [],
   "source": [
    "#simulator.load_drones()"
   ]
  },
  {
   "cell_type": "markdown",
   "id": "democratic-advocacy",
   "metadata": {},
   "source": [
    "Reset drones (places drones at random positions within the start ring)."
   ]
  },
  {
   "cell_type": "code",
   "execution_count": null,
   "id": "every-times",
   "metadata": {},
   "outputs": [],
   "source": [
    "#simulator.reset()"
   ]
  },
  {
   "cell_type": "markdown",
   "id": "special-camel",
   "metadata": {},
   "source": [
    "Run simulation until `max_time` is reached or until all drones finish."
   ]
  },
  {
   "cell_type": "code",
   "execution_count": null,
   "id": "present-analyst",
   "metadata": {},
   "outputs": [],
   "source": [
    "#simulator.run(max_time=5.0)"
   ]
  },
  {
   "cell_type": "markdown",
   "id": "aquatic-saint",
   "metadata": {},
   "source": [
    "## Example of how to rearrange the rings"
   ]
  },
  {
   "cell_type": "markdown",
   "id": "natural-drunk",
   "metadata": {},
   "source": [
    "Rearrange the rings."
   ]
  },
  {
   "cell_type": "code",
   "execution_count": null,
   "id": "premium-mexico",
   "metadata": {},
   "outputs": [],
   "source": [
    "#simulator.move_rings()"
   ]
  },
  {
   "cell_type": "markdown",
   "id": "allied-genealogy",
   "metadata": {},
   "source": [
    "Reset drones (places drones at random positions within the start ring)."
   ]
  },
  {
   "cell_type": "code",
   "execution_count": null,
   "id": "reasonable-writer",
   "metadata": {},
   "outputs": [],
   "source": [
    "#simulator.reset()"
   ]
  },
  {
   "cell_type": "markdown",
   "id": "strange-provision",
   "metadata": {},
   "source": [
    "Run simulation until `max_time` is reached or until all drones finish."
   ]
  },
  {
   "cell_type": "code",
   "execution_count": null,
   "id": "narrative-worse",
   "metadata": {},
   "outputs": [],
   "source": [
    "#simulator.run(max_time=5.0)"
   ]
  },
  {
   "cell_type": "markdown",
   "id": "realistic-virgin",
   "metadata": {},
   "source": [
    "## Example of how to take a snapshot"
   ]
  },
  {
   "cell_type": "markdown",
   "id": "rough-rally",
   "metadata": {},
   "source": [
    "View from behind a particular drone."
   ]
  },
  {
   "cell_type": "code",
   "execution_count": null,
   "id": "described-yukon",
   "metadata": {},
   "outputs": [],
   "source": [
    "#simulator.camera_droneview('template')"
   ]
  },
  {
   "cell_type": "markdown",
   "id": "instant-scott",
   "metadata": {},
   "source": [
    "Display a snapshot."
   ]
  },
  {
   "cell_type": "code",
   "execution_count": null,
   "id": "thrown-harvard",
   "metadata": {},
   "outputs": [],
   "source": [
    "# Get snapshot as 480 x 480 x 4 numpy array of RGBA values\n",
    "#rgba = simulator.snapshot()\n",
    "\n",
    "# Display snapshot\n",
    "#plt.figure(figsize=(9, 9))\n",
    "#plt.imshow(rgba)"
   ]
  },
  {
   "cell_type": "markdown",
   "id": "frequent-housing",
   "metadata": {},
   "source": [
    "Save the snapshot."
   ]
  },
  {
   "cell_type": "code",
   "execution_count": null,
   "id": "serial-tampa",
   "metadata": {},
   "outputs": [],
   "source": [
    "#plt.imsave('my_snapshot.png', rgba)"
   ]
  },
  {
   "cell_type": "markdown",
   "id": "preliminary-washington",
   "metadata": {},
   "source": [
    "## Example of how to record a movie"
   ]
  },
  {
   "cell_type": "markdown",
   "id": "universal-arrangement",
   "metadata": {},
   "source": [
    "You must install both [imageio](https://github.com/imageio/imageio) and [imageio-ffmpeg](https://github.com/imageio/imageio-ffmpeg) in order for this to work. You can do this from a terminal (in your `ae353-bullet` environment, for example) as follows:\n",
    "\n",
    "```\n",
    "pip install imageio\n",
    "pip install imageio-ffmpeg\n",
    "```"
   ]
  },
  {
   "cell_type": "markdown",
   "id": "missing-administrator",
   "metadata": {},
   "source": [
    "Reset drones (places drones at random positions within the start ring)."
   ]
  },
  {
   "cell_type": "code",
   "execution_count": null,
   "id": "economic-tribe",
   "metadata": {},
   "outputs": [],
   "source": [
    "#simulator.reset()"
   ]
  },
  {
   "cell_type": "markdown",
   "id": "usual-retention",
   "metadata": {},
   "source": [
    "View from behind a particular drone."
   ]
  },
  {
   "cell_type": "code",
   "execution_count": null,
   "id": "dental-eight",
   "metadata": {},
   "outputs": [],
   "source": [
    "#simulator.camera_droneview('template')"
   ]
  },
  {
   "cell_type": "markdown",
   "id": "cutting-guide",
   "metadata": {},
   "source": [
    "Run simulation until `max_time` is reached or until all drones finish, saving movie to `my_video.mp4`."
   ]
  },
  {
   "cell_type": "code",
   "execution_count": null,
   "id": "comprehensive-taxation",
   "metadata": {},
   "outputs": [],
   "source": [
    "#simulator.run(max_time=1.0, video_filename='my_video.mp4')"
   ]
  }
 ],
 "metadata": {
  "kernelspec": {
   "display_name": "Python 3",
   "language": "python",
   "name": "python3"
  },
  "language_info": {
   "codemirror_mode": {
    "name": "ipython",
    "version": 3
   },
   "file_extension": ".py",
   "mimetype": "text/x-python",
   "name": "python",
   "nbconvert_exporter": "python",
   "pygments_lexer": "ipython3",
   "version": "3.9.4"
  }
 },
 "nbformat": 4,
 "nbformat_minor": 5
}
