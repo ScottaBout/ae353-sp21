{
 "cells": [
  {
   "cell_type": "markdown",
   "id": "middle-acoustic",
   "metadata": {},
   "source": [
    "# Cooperative race"
   ]
  },
  {
   "cell_type": "markdown",
   "id": "progressive-national",
   "metadata": {},
   "source": [
    "Before you start working with this notebook, remember to:\n",
    "\n",
    "* Copy racers into `Cooperative Designs`\n",
    "* Remove all directories `coop_*` if any exist\n",
    "\n",
    "You also need to create a file called `students.json`, with an entry for every student who might submit, in the following format:\n",
    "\n",
    "```json\n",
    "[\n",
    "    {\n",
    "        \"first\": \"Somefirstname\",\n",
    "        \"last\": \"Somelastname\",\n",
    "        \"netid\": \"somenetid\"\n",
    "    },\n",
    "    {\n",
    "        \"first\": \"Anotherfirstname\",\n",
    "        \"last\": \"Anotherlastname\",\n",
    "        \"netid\": \"anothernetid\"\n",
    "    }\n",
    "]\n",
    "```\n",
    "\n",
    "You can think of the syntax here as a list of dict's. Note that (unlike in python), there must *not* be a comma after the last element of the list or after the last element of each dict."
   ]
  },
  {
   "cell_type": "markdown",
   "id": "faced-least",
   "metadata": {},
   "source": [
    "Import modules and configure the notebook."
   ]
  },
  {
   "cell_type": "code",
   "execution_count": null,
   "id": "informed-qatar",
   "metadata": {},
   "outputs": [],
   "source": [
    "import os\n",
    "import time\n",
    "import numpy as np\n",
    "import matplotlib.pyplot as plt\n",
    "import secrets\n",
    "import json\n",
    "import shutil\n",
    "import subprocess\n",
    "import ae353_drone\n",
    "import importlib\n",
    "importlib.reload(ae353_drone)"
   ]
  },
  {
   "cell_type": "markdown",
   "id": "potential-dictionary",
   "metadata": {},
   "source": [
    "Create and print seed so it is possible to reproduce the results."
   ]
  },
  {
   "cell_type": "code",
   "execution_count": null,
   "id": "occupational-presentation",
   "metadata": {},
   "outputs": [],
   "source": [
    "seed = secrets.randbits(32)\n",
    "print(seed)"
   ]
  },
  {
   "cell_type": "markdown",
   "id": "environmental-refrigerator",
   "metadata": {},
   "source": [
    "Create simulator."
   ]
  },
  {
   "cell_type": "code",
   "execution_count": null,
   "id": "cooperative-person",
   "metadata": {},
   "outputs": [],
   "source": [
    "simulator = ae353_drone.Simulator(display=True, seed=seed)"
   ]
  },
  {
   "cell_type": "markdown",
   "id": "specific-trustee",
   "metadata": {},
   "source": [
    "Load student roster."
   ]
  },
  {
   "cell_type": "code",
   "execution_count": null,
   "id": "municipal-compromise",
   "metadata": {},
   "outputs": [],
   "source": [
    "with open('students.json', 'r') as infile:\n",
    "    students = json.load(infile)\n",
    "\n",
    "def get_student(students, netid):\n",
    "    for student in students:\n",
    "        if student['netid'] == netid:\n",
    "            return student\n",
    "    return None"
   ]
  },
  {
   "cell_type": "markdown",
   "id": "political-oliver",
   "metadata": {},
   "source": [
    "Define source directory with all designs."
   ]
  },
  {
   "cell_type": "code",
   "execution_count": null,
   "id": "organic-antenna",
   "metadata": {},
   "outputs": [],
   "source": [
    "srcdir_designs = 'Cooperative Designs'"
   ]
  },
  {
   "cell_type": "markdown",
   "id": "cooperative-maintenance",
   "metadata": {},
   "source": [
    "Make sure all files in source directory have lower-case names."
   ]
  },
  {
   "cell_type": "code",
   "execution_count": null,
   "id": "clinical-abuse",
   "metadata": {},
   "outputs": [],
   "source": [
    "srcdir = srcdir_designs\n",
    "for file in os.listdir(srcdir):\n",
    "    os.rename(os.path.join(srcdir, file), os.path.join(srcdir, file.lower()))"
   ]
  },
  {
   "cell_type": "markdown",
   "id": "offshore-cedar",
   "metadata": {},
   "source": [
    "Make sure all PNG files in source directory really are PNG files."
   ]
  },
  {
   "cell_type": "code",
   "execution_count": null,
   "id": "front-novelty",
   "metadata": {},
   "outputs": [],
   "source": [
    "srcdir = srcdir_designs\n",
    "template_image = 'question_mark.png'\n",
    "for file in os.listdir(srcdir):\n",
    "    if file.endswith('.png'):\n",
    "        completed_process = subprocess.run([\n",
    "                    'convert',\n",
    "                    os.path.join(srcdir, file),\n",
    "                    os.path.join(srcdir, file),\n",
    "                ], capture_output=True)\n",
    "        if completed_process.returncode == 0:\n",
    "            print(f' converted {file}')\n",
    "        else:\n",
    "            print(f' FAILED to convert {file} (returncode: {completed_process.returncode}), replacing with template')\n",
    "            shutil.copyfile(template_image, os.path.join(srcdir, file))"
   ]
  },
  {
   "cell_type": "markdown",
   "id": "competitive-crisis",
   "metadata": {},
   "source": [
    "Load drones from source directory, overriding the maximum allowable number."
   ]
  },
  {
   "cell_type": "code",
   "execution_count": null,
   "id": "regular-memphis",
   "metadata": {},
   "outputs": [],
   "source": [
    "simulator.clear_drones()\n",
    "failures = simulator.load_drones(srcdir_designs, no_max_num_drones=True)"
   ]
  },
  {
   "cell_type": "markdown",
   "id": "empirical-destination",
   "metadata": {},
   "source": [
    "List disqualified drones."
   ]
  },
  {
   "cell_type": "code",
   "execution_count": null,
   "id": "attended-residence",
   "metadata": {},
   "outputs": [],
   "source": [
    "print(f'DISQUALIFIED ({len(failures)}):\\n')\n",
    "for failure in failures:\n",
    "    student = get_student(students, failure)\n",
    "    if student is None:\n",
    "        name = ''\n",
    "    else:\n",
    "        name = f'{student[\"first\"]} {student[\"last\"]}'\n",
    "    print(f' {failure:10s} : {name}')"
   ]
  },
  {
   "cell_type": "markdown",
   "id": "experimental-probe",
   "metadata": {},
   "source": [
    "List qualified drones."
   ]
  },
  {
   "cell_type": "code",
   "execution_count": null,
   "id": "wooden-columbia",
   "metadata": {},
   "outputs": [],
   "source": [
    "print(f'QUALIFIED ({len(simulator.drones)}):\\n')\n",
    "for drone in simulator.drones:\n",
    "    student = get_student(students, drone['name'])\n",
    "    if student is None:\n",
    "        raise Exception(f'could not find student for this drone name: {drone[\"name\"]}')\n",
    "    print(f' {drone[\"name\"]:10s} : {student[\"first\"]} {student[\"last\"]}')\n",
    "    \n",
    "qualified = [drone['name'] for drone in simulator.drones]"
   ]
  },
  {
   "cell_type": "markdown",
   "id": "needed-cuisine",
   "metadata": {},
   "source": [
    "Create empty list of non-finishers."
   ]
  },
  {
   "cell_type": "code",
   "execution_count": null,
   "id": "early-ancient",
   "metadata": {},
   "outputs": [],
   "source": [
    "did_not_finish = []"
   ]
  },
  {
   "cell_type": "markdown",
   "id": "novel-operation",
   "metadata": {},
   "source": [
    "Define index of first race."
   ]
  },
  {
   "cell_type": "code",
   "execution_count": null,
   "id": "religious-addiction",
   "metadata": {},
   "outputs": [],
   "source": [
    "index_of_race = 0"
   ]
  },
  {
   "cell_type": "markdown",
   "id": "reliable-roberts",
   "metadata": {},
   "source": [
    "Choose number of drones to add each time."
   ]
  },
  {
   "cell_type": "code",
   "execution_count": null,
   "id": "ordinary-credits",
   "metadata": {},
   "outputs": [],
   "source": [
    "num_drones_to_add = 10"
   ]
  },
  {
   "cell_type": "markdown",
   "id": "silver-authentication",
   "metadata": {},
   "source": [
    "## Set up cooperative race"
   ]
  },
  {
   "cell_type": "markdown",
   "id": "entertaining-spectrum",
   "metadata": {},
   "source": [
    "Create directory in which to put racers."
   ]
  },
  {
   "cell_type": "code",
   "execution_count": null,
   "id": "interesting-generation",
   "metadata": {},
   "outputs": [],
   "source": [
    "index_of_race += 1\n",
    "print(f'Setting up cooperative race {index_of_race} with {len(qualified)} candidate racers')\n",
    "\n",
    "racedir = f'coop_{index_of_race}'\n",
    "os.mkdir(racedir)\n",
    "\n",
    "# Get list of qualified racers\n",
    "all_racers = qualified.copy()\n",
    "\n",
    "# Shuffle order of this list\n",
    "simulator.rng.shuffle(all_racers)"
   ]
  },
  {
   "cell_type": "markdown",
   "id": "square-shelter",
   "metadata": {},
   "source": [
    "## Run cooperative race\n",
    "\n",
    "Each time you run this code, more racers will be added. If everyone finishes the race, keep adding until you get them all! If some racers do not finish, they will be removed from consideration, and you should go back to \"set up cooperative race\" again before proceeding."
   ]
  },
  {
   "cell_type": "markdown",
   "id": "dominant-breakfast",
   "metadata": {},
   "source": [
    "Add more racers to race."
   ]
  },
  {
   "cell_type": "code",
   "execution_count": null,
   "id": "regulated-housing",
   "metadata": {},
   "outputs": [],
   "source": [
    "racers = all_racers[-num_drones_to_add:]\n",
    "all_racers = all_racers[:-num_drones_to_add]\n",
    "for racer in racers:\n",
    "    shutil.copyfile(os.path.join(srcdir_designs, f'{racer}.py'), os.path.join(racedir, f'{racer}.py'))\n",
    "    shutil.copyfile(os.path.join(srcdir_designs, f'{racer}.png'), os.path.join(racedir, f'{racer}.png'))"
   ]
  },
  {
   "cell_type": "markdown",
   "id": "convenient-canada",
   "metadata": {},
   "source": [
    "Ready..."
   ]
  },
  {
   "cell_type": "code",
   "execution_count": null,
   "id": "together-cathedral",
   "metadata": {},
   "outputs": [],
   "source": [
    "# Clear drones\n",
    "simulator.clear_drones()\n",
    "\n",
    "# Move rings\n",
    "simulator.move_rings()\n",
    "\n",
    "# Load drones\n",
    "simulator.load_drones(racedir)\n",
    "\n",
    "# Reset\n",
    "simulator.reset()"
   ]
  },
  {
   "cell_type": "markdown",
   "id": "harmful-laugh",
   "metadata": {},
   "source": [
    "Steady..."
   ]
  },
  {
   "cell_type": "code",
   "execution_count": null,
   "id": "selective-inspector",
   "metadata": {},
   "outputs": [],
   "source": [
    "simulator.camera_contestview()\n",
    "\n",
    "num_drones = len(simulator.drones)\n",
    "num_columns = 3\n",
    "num_rows = np.ceil(num_drones / num_columns).astype(int)\n",
    "fig, axs = plt.subplots(num_rows, num_columns, figsize=(12, 4 * num_rows))\n",
    "[ax.set_axis_off() for ax in axs.flatten()]\n",
    "for ax, drone in zip(axs.flatten(), simulator.drones):\n",
    "    student = get_student(students, drone['name'])\n",
    "    if student is None:\n",
    "        raise Exception(f'could not find student for this drone name: {drone[\"name\"]}')\n",
    "    im = plt.imread(os.path.join(srcdir, f'{drone[\"name\"]}.png'))\n",
    "    ax.imshow(im, aspect='equal')\n",
    "    ax.set_title(f'{drone[\"name\"]}\\n{student[\"first\"]} {student[\"last\"]}', fontsize=24)\n",
    "    ax.axis('equal')\n",
    "\n",
    "fig.tight_layout(h_pad=5)"
   ]
  },
  {
   "cell_type": "markdown",
   "id": "aquatic-glory",
   "metadata": {},
   "source": [
    "Go!"
   ]
  },
  {
   "cell_type": "code",
   "execution_count": null,
   "id": "racial-medicaid",
   "metadata": {},
   "outputs": [],
   "source": [
    "start_time = time.time()\n",
    "simulator.run(max_time=45.0, contestview=True)\n",
    "print(f'real time elapsed: {time.time() - start_time}')"
   ]
  },
  {
   "cell_type": "markdown",
   "id": "entire-cheat",
   "metadata": {},
   "source": [
    "Did everyone finish?"
   ]
  },
  {
   "cell_type": "code",
   "execution_count": null,
   "id": "unlike-fancy",
   "metadata": {},
   "outputs": [],
   "source": [
    "print('Who finished?\\n')\n",
    "all_finished = True\n",
    "for drone in simulator.drones:\n",
    "    if drone['finish_time'] is None:\n",
    "        all_finished = False\n",
    "        print(f' {drone[\"name\"]:10s} did not finish ({\"too slow, or crashed\" if drone[\"running\"] else \"error\"})')\n",
    "        qualified.remove(drone['name'])\n",
    "        did_not_finish.append(drone['name'])\n",
    "    else:\n",
    "        print(f' {drone[\"name\"]:10s} finished')\n",
    "print('\\n')\n",
    "        \n",
    "if all_finished:\n",
    "    print(f'Everyone finished!\\n')\n",
    "    if len(all_racers) == 0:\n",
    "        print(f'No more racers to add! Everybody wins!!')\n",
    "    else:\n",
    "        print(f'Add more racers and try again!')\n",
    "else:\n",
    "    print(f'Not everyone finished. Do a fresh setup and try again!')"
   ]
  },
  {
   "cell_type": "code",
   "execution_count": null,
   "id": "helpful-draft",
   "metadata": {},
   "outputs": [],
   "source": []
  }
 ],
 "metadata": {
  "kernelspec": {
   "display_name": "Python 3",
   "language": "python",
   "name": "python3"
  },
  "language_info": {
   "codemirror_mode": {
    "name": "ipython",
    "version": 3
   },
   "file_extension": ".py",
   "mimetype": "text/x-python",
   "name": "python",
   "nbconvert_exporter": "python",
   "pygments_lexer": "ipython3",
   "version": "3.9.1"
  }
 },
 "nbformat": 4,
 "nbformat_minor": 5
}
